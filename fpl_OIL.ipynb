{
 "cells": [
  {
   "cell_type": "markdown",
   "metadata": {},
   "source": [
    "\n",
    "<h1 id=\"FTPL COVID-19 Analysis\">FTPL COVID-19 Analysis<a class=\"anchor-link\" href=\"#FTPL-COVID-19-Analysis\">¶</a></h1><p>We will apply the Follow the Perturbed Leader algorithm to select the best hyperparameter for a number of different strategies (Mean Reversion, Momentum, Autoregressor) on Crude Oil (CL=F) data during the COVID-19 pandemic.</p>\n"
   ]
  },
  {
   "cell_type": "markdown",
   "metadata": {},
   "source": [
    "\n",
    "<h2 id=\"Imports\">Imports<a class=\"anchor-link\" href=\"#Imports\">¶</a></h2>\n"
   ]
  },
  {
   "cell_type": "code",
   "execution_count": 1,
   "metadata": {},
   "outputs": [],
   "source": [
    "import numpy as np\n",
    "import matplotlib.pyplot as plt\n",
    "import pandas as pd\n",
    "import utils.utils as utils\n",
    "import strategies.strategies as strategies\n",
    "%matplotlib inline"
   ]
  },
  {
   "cell_type": "markdown",
   "metadata": {},
   "source": [
    "\n",
    "<h2 id=\"Load-Data\">Load Data<a class=\"anchor-link\" href=\"#Load-Data\">¶</a></h2>\n"
   ]
  },
  {
   "cell_type": "code",
   "execution_count": 2,
   "metadata": {},
   "outputs": [],
   "source": [
    "fname = 'csv_data/clean_data/oil_dailys_clean.csv'\n",
    "returns = utils.load_data(fname)\n",
    "arima_fname = 'csv_data/clean_data/oil_daily_05-19_clean.csv'\n",
    "arima_data = pd.read_csv(arima_fname, index_col=0, squeeze=True)['return']"
   ]
  },
  {
   "cell_type": "markdown",
   "metadata": {},
   "source": [
    "<h2 id=\"Model Setup\">Model Setup<a class=\"anchor-link\" href=\"#Model-Setup\">¶</a></h2>"
   ]
  },
  {
   "cell_type": "code",
   "execution_count": 3,
   "metadata": {},
   "outputs": [],
   "source": [
    "experiments = {} # maps strat-> name of strategy model->list of models, ftpl-> ftpl class\n",
    "\n",
    "# mean reversion\n",
    "models_mr = []\n",
    "\n",
    "for i in range(10, 35, 4):\n",
    "    mr_model = strategies.MeanReversion(k=i)\n",
    "    models_mr.append(mr_model)\n",
    "\n",
    "ftpl_mr = strategies.FTPL()\n",
    "\n",
    "experiments['Mean Reversion'] = {'models': models_mr, 'ftpl': ftpl_mr}\n",
    "\n",
    "\n",
    "# momentum\n",
    "models_mtm = []\n",
    "\n",
    "for i in range(14, 34, 4):\n",
    "    mtm_model = strategies.Momentum(k=i)\n",
    "    models_mtm.append(mtm_model)\n",
    "ftpl_mtm = strategies.FTPL()\n",
    "\n",
    "experiments['Momentum'] = {'models': models_mtm, 'ftpl': ftpl_mtm}\n",
    "\n",
    "# autoregressive model (we want to test an AR model with 1,2,3 lag and 1 time difference)\n",
    "models_ar = []\n",
    "\n",
    "for i in range(1, 10):\n",
    "    ar_model = strategies.ARIMA(arima_data, i, 1, 0)\n",
    "    models_ar.append(ar_model)\n",
    "ftpl_ar = strategies.FTPL()\n",
    "\n",
    "experiments['ARIMA'] = {'models':models_ar, 'ftpl':ftpl_ar}"
   ]
  },
  {
   "cell_type": "markdown",
   "metadata": {},
   "source": [
    "<h2 id=\"FTPL Algorithm\">FTPL Algorithm<a class=\"anchor-link\" href=\"#FTPL-Algorithm\">¶</a></h2>"
   ]
  },
  {
   "cell_type": "code",
   "execution_count": null,
   "metadata": {},
   "outputs": [
    {
     "name": "stdout",
     "output_type": "stream",
     "text": [
      "Running model for Mean Reversion strategy\n",
      "Running model for Momentum strategy\n",
      "Running model for ARIMA strategy\n"
     ]
    }
   ],
   "source": [
    "# run the algorithm for all of the models\n",
    "for strategy, val in experiments.items():\n",
    "    print(f\"Running model for {strategy} strategy\")\n",
    "    models = val['models']\n",
    "    ftpl = val['ftpl']\n",
    "    ftpl.run_algorithm(returns, models)"
   ]
  },
  {
   "cell_type": "markdown",
   "metadata": {},
   "source": [
    "\n",
    "<h2 id=\"Data Visualization\">Data Visualization<a class=\"anchor-link\" href=\"#Data-Visualization\">¶</a></h2>\n"
   ]
  },
  {
   "cell_type": "markdown",
   "metadata": {},
   "source": [
    "### Mean Reversion Visualization"
   ]
  },
  {
   "cell_type": "code",
   "execution_count": null,
   "metadata": {},
   "outputs": [],
   "source": [
    "utils.visualize(experiments, 'Mean Reversion')"
   ]
  },
  {
   "cell_type": "markdown",
   "metadata": {},
   "source": [
    "### Momentum Visualization "
   ]
  },
  {
   "cell_type": "code",
   "execution_count": null,
   "metadata": {
    "scrolled": false
   },
   "outputs": [],
   "source": [
    "utils.visualize(experiments, 'Momentum')"
   ]
  },
  {
   "cell_type": "markdown",
   "metadata": {},
   "source": [
    "### ARIMA Visualization"
   ]
  },
  {
   "cell_type": "code",
   "execution_count": null,
   "metadata": {},
   "outputs": [],
   "source": [
    "utils.visualize(experiments, 'ARIMA')"
   ]
  }
 ],
 "metadata": {
  "kernelspec": {
   "display_name": "Python 3",
   "language": "python",
   "name": "python3"
  },
  "language_info": {
   "codemirror_mode": {
    "name": "ipython",
    "version": 3
   },
   "file_extension": ".py",
   "mimetype": "text/x-python",
   "name": "python",
   "nbconvert_exporter": "python",
   "pygments_lexer": "ipython3",
   "version": "3.8.3"
  }
 },
 "nbformat": 4,
 "nbformat_minor": 1
}
