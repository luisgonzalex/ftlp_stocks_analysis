{
 "cells": [
  {
   "cell_type": "code",
   "execution_count": 1,
   "metadata": {},
   "outputs": [],
   "source": [
    "#objective, make a clean function that can take in filename as a paramenter"
   ]
  },
  {
   "cell_type": "code",
   "execution_count": 2,
   "metadata": {},
   "outputs": [],
   "source": [
    "from utils.utils import clean_yahoo_data\n",
    "import pandas as pd"
   ]
  },
  {
   "cell_type": "markdown",
   "metadata": {},
   "source": [
    "## code for AAPL"
   ]
  },
  {
   "cell_type": "code",
   "execution_count": 3,
   "metadata": {},
   "outputs": [
    {
     "ename": "NameError",
     "evalue": "name 'clean_data' is not defined",
     "output_type": "error",
     "traceback": [
      "\u001b[0;31m---------------------------------------------------------------------------\u001b[0m",
      "\u001b[0;31mNameError\u001b[0m                                 Traceback (most recent call last)",
      "\u001b[0;32m<ipython-input-3-7676acbb857e>\u001b[0m in \u001b[0;36m<module>\u001b[0;34m\u001b[0m\n\u001b[1;32m      4\u001b[0m \u001b[0msave_covid_aapl\u001b[0m \u001b[0;34m=\u001b[0m \u001b[0;34m\"csv_data/clean_data/aapl_dailys_clean.csv\"\u001b[0m\u001b[0;34m\u001b[0m\u001b[0;34m\u001b[0m\u001b[0m\n\u001b[1;32m      5\u001b[0m \u001b[0mfiles_aapl\u001b[0m \u001b[0;34m=\u001b[0m \u001b[0;34m[\u001b[0m\u001b[0;34m(\u001b[0m\u001b[0mfname_05_to_19_aapl\u001b[0m\u001b[0;34m,\u001b[0m \u001b[0msave_05_to_19_aapl\u001b[0m\u001b[0;34m)\u001b[0m\u001b[0;34m,\u001b[0m \u001b[0;34m(\u001b[0m\u001b[0mfname_covid_aapl\u001b[0m\u001b[0;34m,\u001b[0m \u001b[0msave_covid_aapl\u001b[0m\u001b[0;34m)\u001b[0m\u001b[0;34m]\u001b[0m\u001b[0;34m\u001b[0m\u001b[0;34m\u001b[0m\u001b[0m\n\u001b[0;32m----> 6\u001b[0;31m \u001b[0mclean_data\u001b[0m\u001b[0;34m(\u001b[0m\u001b[0mfiles_aapl\u001b[0m\u001b[0;34m)\u001b[0m\u001b[0;34m\u001b[0m\u001b[0;34m\u001b[0m\u001b[0m\n\u001b[0m",
      "\u001b[0;31mNameError\u001b[0m: name 'clean_data' is not defined"
     ]
    }
   ],
   "source": [
    "fname_05_to_19_aapl = \"csv_data/dirty_data/aapl_daily_05-18.csv\"\n",
    "fname_covid_aapl = \"csv_data/dirty_data/aapl_dailys.csv\"\n",
    "save_05_to_19_aapl = \"csv_data/clean_data/aapl_daily_05-18_clean.csv\"\n",
    "save_covid_aapl = \"csv_data/clean_data/aapl_dailys_clean.csv\"\n",
    "files_aapl = [(fname_05_to_19_aapl, save_05_to_19_aapl), (fname_covid_aapl, save_covid_aapl)]\n",
    "clean_data(files_aapl)"
   ]
  },
  {
   "cell_type": "markdown",
   "metadata": {},
   "source": [
    "## code for JETS"
   ]
  },
  {
   "cell_type": "code",
   "execution_count": null,
   "metadata": {},
   "outputs": [],
   "source": [
    "fname_15_to_19_jets = \"csv_data/dirty_data/jets_daily_15-19.csv\"\n",
    "fname_covid_jets = \"csv_data/dirty_data/jets_dailys.csv\"\n",
    "save_15_to_19_jets = \"csv_data/clean_data/jets_daily_15-19_clean.csv\"\n",
    "save_covid_jets = \"csv_data/clean_data/jets_dailys_clean.csv\"\n",
    "files_jets = [(fname_15_to_19_jets, save_15_to_19_jets), (fname_covid_jets, save_covid_jets)]\n",
    "clean_data(files_jets)"
   ]
  },
  {
   "cell_type": "markdown",
   "metadata": {},
   "source": [
    "## code for DIS"
   ]
  },
  {
   "cell_type": "code",
   "execution_count": null,
   "metadata": {
    "scrolled": true
   },
   "outputs": [],
   "source": [
    "fname_05_to_19_dis = \"csv_data/dirty_data/dis_daily_05-19.csv\"\n",
    "fname_covid_dis = \"csv_data/dirty_data/dis_dailys.csv\"\n",
    "save_05_to_19_dis = \"csv_data/clean_data/dis_daily_05-19_clean.csv\"\n",
    "save_covid_dis = \"csv_data/clean_data/dis_dailys_clean.csv\"\n",
    "files_dis = [(fname_05_to_19_dis, save_05_to_19_dis), (fname_covid_dis, save_covid_dis)]\n",
    "clean_data(files_dis)"
   ]
  },
  {
   "cell_type": "markdown",
   "metadata": {},
   "source": [
    "## code for OIL"
   ]
  },
  {
   "cell_type": "code",
   "execution_count": null,
   "metadata": {},
   "outputs": [],
   "source": [
    "fname_05_to_19_oil = \"csv_data/dirty_data/oil_daily_05-19.csv\"\n",
    "fname_covid_oil = \"csv_data/dirty_data/oil_dailys.csv\"\n",
    "save_05_to_19_oil = \"csv_data/clean_data/oil_daily_05-19_clean.csv\"\n",
    "save_covid_oil = \"csv_data/clean_data/oil_dailys_clean.csv\"\n",
    "files_oil = [(fname_05_to_19_oil, save_05_to_19_oil), (fname_covid_oil, save_covid_oil)]\n",
    "clean_data(files_oil)"
   ]
  },
  {
   "cell_type": "markdown",
   "metadata": {},
   "source": [
    "## code for AMZN"
   ]
  },
  {
   "cell_type": "code",
   "execution_count": null,
   "metadata": {},
   "outputs": [],
   "source": [
    "fname_05_to_19_amzn = \"csv_data/dirty_data/amzn_daily_05-19.csv\"\n",
    "fname_covid_amzn = \"csv_data/dirty_data/amzn_dailys.csv\"\n",
    "save_05_to_19_amzn = \"csv_data/clean_data/amzn_daily_05-19_clean.csv\"\n",
    "save_covid_amzn = \"csv_data/clean_data/amzn_dailys_clean.csv\"\n",
    "files_amzn = [(fname_05_to_19_amzn, save_05_to_19_amzn), (fname_covid_amzn, save_covid_amzn)]\n",
    "clean_data(files_amzn)"
   ]
  },
  {
   "cell_type": "markdown",
   "metadata": {},
   "source": [
    "## code for GOOG"
   ]
  },
  {
   "cell_type": "code",
   "execution_count": null,
   "metadata": {},
   "outputs": [],
   "source": [
    "fname_05_to_19_goog = \"csv_data/dirty_data/goog_daily_05-19.csv\"\n",
    "fname_covid_goog = \"csv_data/dirty_data/goog_dailys.csv\"\n",
    "save_05_to_19_goog = \"csv_data/clean_data/goog_daily_05-19_clean.csv\"\n",
    "save_covid_goog = \"csv_data/clean_data/goog_dailys_clean.csv\"\n",
    "files_goog = [(fname_05_to_19_goog, save_05_to_19_goog), (fname_covid_goog, save_covid_goog)]\n",
    "clean_data(files_goog)"
   ]
  },
  {
   "cell_type": "markdown",
   "metadata": {},
   "source": [
    "## code for CCL"
   ]
  },
  {
   "cell_type": "code",
   "execution_count": null,
   "metadata": {},
   "outputs": [],
   "source": [
    "fname_05_to_19_ccl = \"csv_data/dirty_data/ccl_daily_05-19.csv\"\n",
    "fname_covid_ccl = \"csv_data/dirty_data/ccl_dailys.csv\"\n",
    "save_05_to_19_ccl = \"csv_data/clean_data/ccl_daily_05-19_clean.csv\"\n",
    "save_covid_ccl = \"csv_data/clean_data/ccl_dailys_clean.csv\"\n",
    "files_ccl = [(fname_05_to_19_ccl, save_05_to_19_ccl), (fname_covid_ccl, save_covid_ccl)]\n",
    "clean_data(files_ccl)"
   ]
  },
  {
   "cell_type": "code",
   "execution_count": null,
   "metadata": {},
   "outputs": [],
   "source": [
    "def clean_data(files):\n",
    "    \"\"\"\n",
    "    files (list): list of tupes (filename, savename)\n",
    "    \"\"\"\n",
    "    for fname, sname in files:\n",
    "        print(f\"cleaning {fname} and saving to {sname}\")\n",
    "        df = clean_yahoo_data(fname)\n",
    "        df.to_csv(sname)"
   ]
  },
  {
   "cell_type": "code",
   "execution_count": null,
   "metadata": {},
   "outputs": [],
   "source": []
  }
 ],
 "metadata": {
  "kernelspec": {
   "display_name": "Python 3",
   "language": "python",
   "name": "python3"
  },
  "language_info": {
   "codemirror_mode": {
    "name": "ipython",
    "version": 3
   },
   "file_extension": ".py",
   "mimetype": "text/x-python",
   "name": "python",
   "nbconvert_exporter": "python",
   "pygments_lexer": "ipython3",
   "version": "3.8.3"
  }
 },
 "nbformat": 4,
 "nbformat_minor": 4
}
